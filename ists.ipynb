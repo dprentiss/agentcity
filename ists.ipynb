{
 "cells": [
  {
   "cell_type": "code",
   "execution_count": 1,
   "metadata": {},
   "outputs": [],
   "source": [
    "import seaborn as sns\n",
    "import json\n",
    "import pandas as pd\n",
    "import matplotlib.pyplot as plt\n",
    "import numpy as np\n",
    "%config InlineBackend.figure_formats = ['pdf']"
   ]
  },
  {
   "cell_type": "code",
   "execution_count": 2,
   "metadata": {},
   "outputs": [
    {
     "ename": "FileNotFoundError",
     "evalue": "[Errno 2] No such file or directory: 'grid4rand.json'",
     "output_type": "error",
     "traceback": [
      "\u001b[0;31m---------------------------------------------------------------------------\u001b[0m",
      "\u001b[0;31mFileNotFoundError\u001b[0m                         Traceback (most recent call last)",
      "\u001b[0;32m<ipython-input-2-44d8c6966bed>\u001b[0m in \u001b[0;36m<module>\u001b[0;34m\u001b[0m\n\u001b[1;32m      1\u001b[0m \u001b[0mfilename\u001b[0m \u001b[0;34m=\u001b[0m \u001b[0;34m'grid4rand.json'\u001b[0m\u001b[0;34m\u001b[0m\u001b[0;34m\u001b[0m\u001b[0m\n\u001b[0;32m----> 2\u001b[0;31m \u001b[0;32mwith\u001b[0m \u001b[0mopen\u001b[0m\u001b[0;34m(\u001b[0m\u001b[0mfilename\u001b[0m\u001b[0;34m)\u001b[0m \u001b[0;32mas\u001b[0m \u001b[0mjson_file\u001b[0m\u001b[0;34m:\u001b[0m\u001b[0;34m\u001b[0m\u001b[0;34m\u001b[0m\u001b[0m\n\u001b[0m\u001b[1;32m      3\u001b[0m     \u001b[0mdata\u001b[0m \u001b[0;34m=\u001b[0m \u001b[0mjson\u001b[0m\u001b[0;34m.\u001b[0m\u001b[0mload\u001b[0m\u001b[0;34m(\u001b[0m\u001b[0mjson_file\u001b[0m\u001b[0;34m)\u001b[0m\u001b[0;34m\u001b[0m\u001b[0;34m\u001b[0m\u001b[0m\n\u001b[1;32m      4\u001b[0m \u001b[0mtestRuns\u001b[0m \u001b[0;34m=\u001b[0m \u001b[0mpd\u001b[0m\u001b[0;34m.\u001b[0m\u001b[0mio\u001b[0m\u001b[0;34m.\u001b[0m\u001b[0mjson\u001b[0m\u001b[0;34m.\u001b[0m\u001b[0mjson_normalize\u001b[0m\u001b[0;34m(\u001b[0m\u001b[0mdata\u001b[0m\u001b[0;34m)\u001b[0m\u001b[0;34m\u001b[0m\u001b[0;34m\u001b[0m\u001b[0m\n\u001b[1;32m      5\u001b[0m \u001b[0mtestRuns\u001b[0m \u001b[0;34m=\u001b[0m \u001b[0mtestRuns\u001b[0m\u001b[0;34m.\u001b[0m\u001b[0mloc\u001b[0m\u001b[0;34m[\u001b[0m\u001b[0mtestRuns\u001b[0m\u001b[0;34m[\u001b[0m\u001b[0;34m'tripGenRate'\u001b[0m\u001b[0;34m]\u001b[0m \u001b[0;34m<\u001b[0m \u001b[0;36m0.05\u001b[0m\u001b[0;34m]\u001b[0m\u001b[0;34m\u001b[0m\u001b[0;34m\u001b[0m\u001b[0m\n",
      "\u001b[0;31mFileNotFoundError\u001b[0m: [Errno 2] No such file or directory: 'grid4rand.json'"
     ]
    }
   ],
   "source": [
    "filename = 'grid4rand.json'\n",
    "with open(filename) as json_file:\n",
    "    data = json.load(json_file)\n",
    "testRuns = pd.io.json.json_normalize(data)\n",
    "testRuns = testRuns.loc[testRuns['tripGenRate'] < 0.05]\n",
    "testRuns = testRuns.loc[testRuns['tripGenRate'] > 0.00]\n",
    "testRunsComp = testRuns.loc[testRuns['lastTripStep'] > 3000]\n",
    "#print(testRuns.loc[0])\n",
    "testRuns"
   ]
  },
  {
   "cell_type": "code",
   "execution_count": null,
   "metadata": {},
   "outputs": [],
   "source": [
    "df = testRuns\n",
    "numRoadCells = (16*grids*2*(grids*2+1)*2 + (16*grids*2*grids*2)) * 2\n",
    "df['averageSpeedWithPassenger'] = df['distWithPassenger'].div(df['stepsWithPassenger'])\n",
    "df['averageSpeedWithoutPassenger'] = df['distWithoutPassenger'].div(df['stepsWithoutPassenger'])\n",
    "df['averageSpeed'] = (df['distWithPassenger'].add(df['distWithoutPassenger'])).div(df['stepsWithoutPassenger'].add(df['stepsWithPassenger']))\n",
    "df['averageStepsWithoutPassenger'] = df['stepsWithoutPassenger'].div(df['numVehicles'])\n",
    "df['averageStepsTravelingWithoutPassenger'] = df['stepsTravelingWithoutPassenger'].div(df['numVehicles'])\n",
    "df['densityCell'] = df['numVehicles'].div(numRoadCells)\n",
    "df['densityKm'] = df['numVehicles'].div(numRoadCells)/7.5*1000\n",
    "densityLabelsCell = np.around(np.arange(0.1, 0.575, 0.025), 3)\n",
    "densityBinsCell = np.arange(0.075, 0.575, 0.025)\n",
    "densityLabelsKm = np.arange(20, 75, 5)\n",
    "densityBinsKm = np.arange(15, 75, 5)\n",
    "df['densityBin'] = pd.cut(df['densityKm'], densityBinsKm, labels = densityLabelsKm)\n",
    "testRuns = df\n",
    "32*grids*grids/numRoadCells/7.5*1000"
   ]
  },
  {
   "cell_type": "code",
   "execution_count": null,
   "metadata": {},
   "outputs": [],
   "source": [
    "grids = 4\n",
    "numRoadCells = (16*grids*2*(grids*2+1)*2 + (16*grids*2*grids*2)) * 2\n",
    "df = testRunsComp.pivot('seed','lanePolicy','averageStepsPerTrip').add_prefix('steps')\n",
    "df['stepsDiff'] = df['stepsTrue'].sub(df['stepsFalse'])\n",
    "df['stepsPercent'] = df['stepsDiff'].div(df['stepsFalse'])*100\n",
    "df['density'] = testRunsComp.drop_duplicates('seed').set_index('seed')['density']\n",
    "df['tripGenRate'] = testRunsComp.drop_duplicates('seed').set_index('seed')['tripGenRate']\n",
    "df['numVehicles'] = testRunsComp.drop_duplicates('seed').set_index('seed')['numVehicles']\n",
    "df['densityCell'] = df['numVehicles'].div(numRoadCells)\n",
    "df['densityKm'] = df['numVehicles'].div(numRoadCells)/7.5*1000\n",
    "densityLabelsCell = np.around(np.arange(0.1, 0.575, 0.025), 3)\n",
    "densityBinsCell = np.arange(0.075, 0.575, 0.025)\n",
    "densityLabelsKm = np.arange(20, 75, 5)\n",
    "densityBinsKm = np.arange(15, 75, 5)\n",
    "df['densityBin'] = pd.cut(df['densityKm'], densityBinsKm, labels = densityLabelsKm)\n",
    "df = df.reset_index().rename_axis(None, axis=1)\n",
    "#print (df)\n",
    "travelTimeDf = df"
   ]
  },
  {
   "cell_type": "code",
   "execution_count": null,
   "metadata": {},
   "outputs": [],
   "source": [
    "plt.figure(figsize=(5,3.5))\n",
    "#plt.rcParams.update({'font.family': 'Times New Roman'})\n",
    "g = sns.barplot(\"densityBin\", \"stepsPercent\", data=travelTimeDf,\n",
    "                facecolor='0.9', edgecolor='0.0')\n",
    "plt.xlabel(\"Density (veh/km/lane)\")\n",
    "plt.ylabel(\"Travel Time Difference (%)\")\n",
    "#plt.xticks(rotation=-90)\n",
    "plt.show(g)"
   ]
  },
  {
   "cell_type": "code",
   "execution_count": null,
   "metadata": {},
   "outputs": [],
   "source": [
    "plt.figure(figsize=(5,3.5))\n",
    "#plt.rcParams.update({'font.family': 'Times New Roman'})\n",
    "g = sns.barplot(\"densityBin\", \"averageSpeedWithPassenger\", data=testRuns, hue='lanePolicy')\n",
    "plt.xlabel(\"Density (veh/km/lane)\")\n",
    "plt.ylabel(\"Average Speed with Passenger (km/h)\")\n",
    "#plt.xticks(rotation=-90)\n",
    "plt.show(g)"
   ]
  },
  {
   "cell_type": "code",
   "execution_count": null,
   "metadata": {},
   "outputs": [],
   "source": [
    "plt.figure(figsize=(5,3.5))\n",
    "#plt.rcParams.update({'font.family': 'Times New Roman'})\n",
    "g = sns.barplot(\"densityBin\", \"averageSpeed\", data=testRuns, hue='lanePolicy')\n",
    "plt.xlabel(\"Density (veh/km/lane)\")\n",
    "plt.ylabel(\"Average Speed (km/h)\")\n",
    "#plt.xticks(rotation=-90)\n",
    "plt.show(g)"
   ]
  },
  {
   "cell_type": "code",
   "execution_count": null,
   "metadata": {},
   "outputs": [],
   "source": [
    "plt.figure(figsize=(5,3.5))\n",
    "#plt.rcParams.update({'font.family': 'Times New Roman'})\n",
    "g = sns.barplot(\"densityBin\", \"averageSpeedWithoutPassenger\", data=testRuns, hue='lanePolicy')\n",
    "plt.xlabel(\"Density (veh/km/lane)\")\n",
    "plt.ylabel(\"Average Speed with Passenger (km/h)\")\n",
    "#plt.xticks(rotation=-90)\n",
    "plt.show(g)"
   ]
  },
  {
   "cell_type": "code",
   "execution_count": null,
   "metadata": {},
   "outputs": [],
   "source": [
    "plt.figure(figsize=(5,3.5))\n",
    "g = sns.scatterplot(\"density\", \"averageSpeed\", data=testRuns, color='0.4', style='lanePolicy')\n",
    "#g.set(xlim=(0,50))\n",
    "#plt.legend(title=\"Lane Policy\")\n",
    "plt.xlabel(\"Density\")\n",
    "plt.ylabel(\"Travel Time (steps)\")\n",
    "plt.show(g)"
   ]
  },
  {
   "cell_type": "code",
   "execution_count": null,
   "metadata": {},
   "outputs": [],
   "source": [
    "plt.figure(figsize=(5,3.5))\n",
    "g = sns.scatterplot(\"density\", \"averageSpeedWithPassenger\", data=testRuns, color='0.4', style='lanePolicy')\n",
    "#g.set(xlim=(0,50))\n",
    "#plt.legend(title=\"Lane Policy\")\n",
    "plt.xlabel(\"Density\")\n",
    "plt.ylabel(\"Travel Time (steps)\")\n",
    "plt.show(g)"
   ]
  },
  {
   "cell_type": "code",
   "execution_count": null,
   "metadata": {},
   "outputs": [],
   "source": []
  }
 ],
 "metadata": {
  "kernelspec": {
   "display_name": "Python 3",
   "language": "python",
   "name": "python3"
  },
  "language_info": {
   "codemirror_mode": {
    "name": "ipython",
    "version": 3
   },
   "file_extension": ".py",
   "mimetype": "text/x-python",
   "name": "python",
   "nbconvert_exporter": "python",
   "pygments_lexer": "ipython3",
   "version": "3.7.4"
  }
 },
 "nbformat": 4,
 "nbformat_minor": 4
}
