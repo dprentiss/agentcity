{
 "cells": [
  {
   "cell_type": "code",
   "execution_count": 410,
   "metadata": {},
   "outputs": [],
   "source": [
    "import seaborn as sns\n",
    "import json\n",
    "import pandas as pd\n",
    "import matplotlib.pyplot as plt"
   ]
  },
  {
   "cell_type": "code",
   "execution_count": 446,
   "metadata": {},
   "outputs": [
    {
     "data": {
      "text/html": [
       "<div>\n",
       "<style scoped>\n",
       "    .dataframe tbody tr th:only-of-type {\n",
       "        vertical-align: middle;\n",
       "    }\n",
       "\n",
       "    .dataframe tbody tr th {\n",
       "        vertical-align: top;\n",
       "    }\n",
       "\n",
       "    .dataframe thead th {\n",
       "        text-align: right;\n",
       "    }\n",
       "</style>\n",
       "<table border=\"1\" class=\"dataframe\">\n",
       "  <thead>\n",
       "    <tr style=\"text-align: right;\">\n",
       "      <th></th>\n",
       "      <th>seed</th>\n",
       "      <th>lanePolicy</th>\n",
       "      <th>averageStepsPerTrip</th>\n",
       "      <th>density</th>\n",
       "    </tr>\n",
       "  </thead>\n",
       "  <tbody>\n",
       "    <tr>\n",
       "      <td>0</td>\n",
       "      <td>1324367672</td>\n",
       "      <td>True</td>\n",
       "      <td>83</td>\n",
       "      <td>51</td>\n",
       "    </tr>\n",
       "    <tr>\n",
       "      <td>1</td>\n",
       "      <td>1324367672</td>\n",
       "      <td>False</td>\n",
       "      <td>83</td>\n",
       "      <td>51</td>\n",
       "    </tr>\n",
       "    <tr>\n",
       "      <td>2</td>\n",
       "      <td>1324367673</td>\n",
       "      <td>True</td>\n",
       "      <td>282</td>\n",
       "      <td>208</td>\n",
       "    </tr>\n",
       "    <tr>\n",
       "      <td>3</td>\n",
       "      <td>1324367673</td>\n",
       "      <td>False</td>\n",
       "      <td>273</td>\n",
       "      <td>208</td>\n",
       "    </tr>\n",
       "    <tr>\n",
       "      <td>4</td>\n",
       "      <td>1324367674</td>\n",
       "      <td>True</td>\n",
       "      <td>160</td>\n",
       "      <td>149</td>\n",
       "    </tr>\n",
       "    <tr>\n",
       "      <td>...</td>\n",
       "      <td>...</td>\n",
       "      <td>...</td>\n",
       "      <td>...</td>\n",
       "      <td>...</td>\n",
       "    </tr>\n",
       "    <tr>\n",
       "      <td>59</td>\n",
       "      <td>1324367701</td>\n",
       "      <td>False</td>\n",
       "      <td>87</td>\n",
       "      <td>58</td>\n",
       "    </tr>\n",
       "    <tr>\n",
       "      <td>60</td>\n",
       "      <td>1324367702</td>\n",
       "      <td>True</td>\n",
       "      <td>97</td>\n",
       "      <td>85</td>\n",
       "    </tr>\n",
       "    <tr>\n",
       "      <td>61</td>\n",
       "      <td>1324367702</td>\n",
       "      <td>False</td>\n",
       "      <td>108</td>\n",
       "      <td>85</td>\n",
       "    </tr>\n",
       "    <tr>\n",
       "      <td>62</td>\n",
       "      <td>1324367703</td>\n",
       "      <td>True</td>\n",
       "      <td>120</td>\n",
       "      <td>115</td>\n",
       "    </tr>\n",
       "    <tr>\n",
       "      <td>63</td>\n",
       "      <td>1324367703</td>\n",
       "      <td>False</td>\n",
       "      <td>141</td>\n",
       "      <td>115</td>\n",
       "    </tr>\n",
       "  </tbody>\n",
       "</table>\n",
       "<p>64 rows × 4 columns</p>\n",
       "</div>"
      ],
      "text/plain": [
       "          seed  lanePolicy  averageStepsPerTrip  density\n",
       "0   1324367672        True                   83       51\n",
       "1   1324367672       False                   83       51\n",
       "2   1324367673        True                  282      208\n",
       "3   1324367673       False                  273      208\n",
       "4   1324367674        True                  160      149\n",
       "..         ...         ...                  ...      ...\n",
       "59  1324367701       False                   87       58\n",
       "60  1324367702        True                   97       85\n",
       "61  1324367702       False                  108       85\n",
       "62  1324367703        True                  120      115\n",
       "63  1324367703       False                  141      115\n",
       "\n",
       "[64 rows x 4 columns]"
      ]
     },
     "execution_count": 446,
     "metadata": {},
     "output_type": "execute_result"
    }
   ],
   "source": [
    "with open('20200104131738-1324367672.json') as json_file:\n",
    "    data = json.load(json_file)\n",
    "testRuns = pd.io.json.json_normalize(data)\n",
    "testRunsComp = testRuns.loc[testRuns['lastTripStep'] > 3000]\n",
    "testRuns = testRuns[['seed', 'lanePolicy', 'averageStepsPerTrip', 'density']]\n",
    "testRuns"
   ]
  },
  {
   "cell_type": "code",
   "execution_count": 447,
   "metadata": {},
   "outputs": [
    {
     "data": {
      "text/html": [
       "<div>\n",
       "<style scoped>\n",
       "    .dataframe tbody tr th:only-of-type {\n",
       "        vertical-align: middle;\n",
       "    }\n",
       "\n",
       "    .dataframe tbody tr th {\n",
       "        vertical-align: top;\n",
       "    }\n",
       "\n",
       "    .dataframe thead th {\n",
       "        text-align: right;\n",
       "    }\n",
       "</style>\n",
       "<table border=\"1\" class=\"dataframe\">\n",
       "  <thead>\n",
       "    <tr style=\"text-align: right;\">\n",
       "      <th></th>\n",
       "      <th>seed</th>\n",
       "      <th>lanePolicy</th>\n",
       "      <th>averageStepsPerTrip</th>\n",
       "    </tr>\n",
       "  </thead>\n",
       "  <tbody>\n",
       "    <tr>\n",
       "      <td>0</td>\n",
       "      <td>1324367672</td>\n",
       "      <td>True</td>\n",
       "      <td>40</td>\n",
       "    </tr>\n",
       "    <tr>\n",
       "      <td>1</td>\n",
       "      <td>1324367672</td>\n",
       "      <td>False</td>\n",
       "      <td>37</td>\n",
       "    </tr>\n",
       "    <tr>\n",
       "      <td>2</td>\n",
       "      <td>1324367673</td>\n",
       "      <td>True</td>\n",
       "      <td>93</td>\n",
       "    </tr>\n",
       "    <tr>\n",
       "      <td>3</td>\n",
       "      <td>1324367673</td>\n",
       "      <td>False</td>\n",
       "      <td>72</td>\n",
       "    </tr>\n",
       "    <tr>\n",
       "      <td>4</td>\n",
       "      <td>1324367674</td>\n",
       "      <td>True</td>\n",
       "      <td>23</td>\n",
       "    </tr>\n",
       "    <tr>\n",
       "      <td>5</td>\n",
       "      <td>1324367674</td>\n",
       "      <td>False</td>\n",
       "      <td>70</td>\n",
       "    </tr>\n",
       "  </tbody>\n",
       "</table>\n",
       "</div>"
      ],
      "text/plain": [
       "         seed  lanePolicy  averageStepsPerTrip\n",
       "0  1324367672        True                   40\n",
       "1  1324367672       False                   37\n",
       "2  1324367673        True                   93\n",
       "3  1324367673       False                   72\n",
       "4  1324367674        True                   23\n",
       "5  1324367674       False                   70"
      ]
     },
     "execution_count": 447,
     "metadata": {},
     "output_type": "execute_result"
    }
   ],
   "source": [
    "df = pd.DataFrame({'seed':[1324367672,1324367672,1324367673,1324367673,1324367674,1324367674], 'lanePolicy':[True,False,True,False,True,False,],'averageStepsPerTrip':[40,37,93,72,23,70]})\n",
    "df"
   ]
  },
  {
   "cell_type": "code",
   "execution_count": 453,
   "metadata": {},
   "outputs": [
    {
     "data": {
      "text/plain": [
       "0      83\n",
       "1     273\n",
       "2     183\n",
       "3     285\n",
       "4     240\n",
       "5     301\n",
       "6     187\n",
       "7     132\n",
       "8      84\n",
       "9     266\n",
       "10    115\n",
       "11    259\n",
       "12     79\n",
       "13    259\n",
       "14    264\n",
       "15    253\n",
       "16     82\n",
       "17    135\n",
       "18    162\n",
       "19     93\n",
       "20    146\n",
       "21     85\n",
       "22     85\n",
       "23    209\n",
       "24    280\n",
       "25    206\n",
       "26    240\n",
       "27     80\n",
       "28    259\n",
       "29     87\n",
       "30    108\n",
       "31    141\n",
       "Name: averageStepsPerTrip, dtype: int64"
      ]
     },
     "execution_count": 453,
     "metadata": {},
     "output_type": "execute_result"
    }
   ],
   "source": [
    "df = testRuns.loc[testRuns['lanePolicy'] == False]['averageStepsPerTrip'].reset_index()['averageStepsPerTrip'] \n",
    "- testRuns.loc[testRuns['lanePolicy'] == True]['averageStepsPerTrip'].reset_index()['averageStepsPerTrip']\n",
    "df"
   ]
  },
  {
   "cell_type": "code",
   "execution_count": 454,
   "metadata": {},
   "outputs": [
    {
     "data": {
      "image/png": "[encoded data removed]",
      "text/plain": [
       "<Figure size 422.125x360 with 1 Axes>"
      ]
     },
     "metadata": {
      "needs_background": "light"
     },
     "output_type": "display_data"
    }
   ],
   "source": [
    "g = sns.lmplot(\"density\", \"averageStepsPerTrip\", data=testRunsComp, hue=\"lanePolicy\",\n",
    "          fit_reg=False, legend=True)\n",
    "#g.set(xlim=(0,50))\n",
    "#plt.legend(title=\"Detector\", labels=['-1 km','-3 km', \"-5 km\", \"-7 km\"])\n",
    "#plt.xlabel(\"Density (1 / km)\")\n",
    "#plt.ylabel(\"Flow (1 / h)\")\n",
    "plt.show(g)"
   ]
  },
  {
   "cell_type": "code",
   "execution_count": 455,
   "metadata": {},
   "outputs": [
    {
     "data": {
      "image/png": "[encoded data removed]",
      "text/plain": [
       "<Figure size 432x288 with 1 Axes>"
      ]
     },
     "metadata": {
      "needs_background": "light"
     },
     "output_type": "display_data"
    }
   ],
   "source": [
    "ax1 = testRuns.plot.scatter(x='density', y='averageStepsPerTrip')"
   ]
  },
  {
   "cell_type": "code",
   "execution_count": null,
   "metadata": {},
   "outputs": [],
   "source": []
  }
 ],
 "metadata": {
  "kernelspec": {
   "display_name": "Python 3",
   "language": "python",
   "name": "python3"
  },
  "language_info": {
   "codemirror_mode": {
    "name": "ipython",
    "version": 3
   },
   "file_extension": ".py",
   "mimetype": "text/x-python",
   "name": "python",
   "nbconvert_exporter": "python",
   "pygments_lexer": "ipython3",
   "version": "3.7.4"
  }
 },
 "nbformat": 4,
 "nbformat_minor": 4
}
